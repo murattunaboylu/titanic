{
 "cells": [
  {
   "cell_type": "code",
   "execution_count": 1,
   "metadata": {
    "collapsed": true
   },
   "outputs": [],
   "source": [
    "import tensorflow as tf\n",
    "import numpy as np"
   ]
  },
  {
   "cell_type": "code",
   "execution_count": 2,
   "metadata": {
    "collapsed": true
   },
   "outputs": [],
   "source": [
    "graph = tf.Graph()"
   ]
  },
  {
   "cell_type": "code",
   "execution_count": 3,
   "metadata": {
    "collapsed": true
   },
   "outputs": [],
   "source": [
    "with graph.as_default():\n",
    "    total_output = tf.Variable(0, dtype=tf.int32, trainable=False, name=\"total_output\")\n",
    "    \n",
    "    with tf.name_scope(\"inputs\"):\n",
    "        a = tf.constant([3,5], name=\"input_a\")\n",
    "    with tf.name_scope(\"transformation\"):\n",
    "        b = tf.reduce_prod(a, name=\"prod_b\")\n",
    "        c = tf.reduce_sum(a, name=\"sum_c\")\n",
    "    with tf.name_scope(\"outputs\"):\n",
    "        d = tf.add(b,c, name=\"add_d\")"
   ]
  },
  {
   "cell_type": "code",
   "execution_count": 4,
   "metadata": {},
   "outputs": [
    {
     "data": {
      "text/plain": [
       "23"
      ]
     },
     "execution_count": 4,
     "metadata": {},
     "output_type": "execute_result"
    }
   ],
   "source": [
    "with graph.as_default():\n",
    "    init = tf.global_variables_initializer()\n",
    "    \n",
    "sess = tf.Session(graph=graph)\n",
    "sess.run(init)\n",
    "output = sess.run(d)\n",
    "output"
   ]
  },
  {
   "cell_type": "code",
   "execution_count": 5,
   "metadata": {
    "collapsed": true
   },
   "outputs": [],
   "source": [
    "with graph.as_default():\n",
    "    total = total_output.assign_add(output)"
   ]
  },
  {
   "cell_type": "code",
   "execution_count": 11,
   "metadata": {},
   "outputs": [],
   "source": [
    "with graph.as_default():\n",
    "    with tf.name_scope(\"summary\"):\n",
    "        tf.summary.scalar(\"total_output\", total)\n",
    "\n",
    "merged_summary = tf.summary.merge_all()\n",
    "    \n",
    "writer = tf.summary.FileWriter(\"./graphs/tb\", sess.graph)\n",
    "writer.add_summary(merged_summary, global_step=2)\n",
    "writer.flush()"
   ]
  },
  {
   "cell_type": "code",
   "execution_count": 12,
   "metadata": {},
   "outputs": [
    {
     "data": {
      "text/plain": [
       "<bound method BaseSession.close of <tensorflow.python.client.session.Session object at 0x000000000AA5D358>>"
      ]
     },
     "execution_count": 12,
     "metadata": {},
     "output_type": "execute_result"
    }
   ],
   "source": [
    "writer.close()\n",
    "sess.close"
   ]
  },
  {
   "cell_type": "code",
   "execution_count": null,
   "metadata": {
    "collapsed": true
   },
   "outputs": [],
   "source": []
  }
 ],
 "metadata": {
  "kernelspec": {
   "display_name": "Python 3",
   "language": "python",
   "name": "python3"
  },
  "language_info": {
   "codemirror_mode": {
    "name": "ipython",
    "version": 3
   },
   "file_extension": ".py",
   "mimetype": "text/x-python",
   "name": "python",
   "nbconvert_exporter": "python",
   "pygments_lexer": "ipython3",
   "version": "3.6.2"
  }
 },
 "nbformat": 4,
 "nbformat_minor": 2
}
